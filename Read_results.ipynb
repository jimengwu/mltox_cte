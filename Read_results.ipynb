{
 "cells": [
  {
   "cell_type": "code",
   "execution_count": 4,
   "metadata": {
    "collapsed": true
   },
   "outputs": [],
   "source": [
    "import pandas as pd\n",
    "import numpy as np\n",
    "import re\n",
    "from tqdm import tqdm\n",
    "def str2float(x):\n",
    "    return float(re.findall(\"\\d+\\.\\d+\", x)[0])\n",
    "\n",
    "folder  = \".../T_models/\""
   ]
  },
  {
   "cell_type": "markdown",
   "metadata": {},
   "source": [
    "# V_models"
   ]
  },
  {
   "cell_type": "code",
   "execution_count": 8,
   "metadata": {
    "collapsed": true
   },
   "outputs": [
    {
     "name": "stderr",
     "output_type": "stream",
     "text": [
      "100%|██████████| 16/16 [00:00<00:00, 91.36it/s]\n"
     ]
    },
    {
     "data": {
      "text/html": [
       "<div>\n",
       "<style scoped>\n",
       "    .dataframe tbody tr th:only-of-type {\n",
       "        vertical-align: middle;\n",
       "    }\n",
       "\n",
       "    .dataframe tbody tr th {\n",
       "        vertical-align: top;\n",
       "    }\n",
       "\n",
       "    .dataframe thead th {\n",
       "        text-align: right;\n",
       "    }\n",
       "</style>\n",
       "<table border=\"1\" class=\"dataframe\">\n",
       "  <thead>\n",
       "    <tr style=\"text-align: right;\">\n",
       "      <th></th>\n",
       "      <th>train_avg_accuracy</th>\n",
       "      <th>train_std_accuracy</th>\n",
       "      <th>test_accuracy</th>\n",
       "    </tr>\n",
       "  </thead>\n",
       "  <tbody>\n",
       "    <tr>\n",
       "      <th>0</th>\n",
       "      <td>0.650871</td>\n",
       "      <td>0.0577851</td>\n",
       "      <td>0.78</td>\n",
       "    </tr>\n",
       "    <tr>\n",
       "      <th>1</th>\n",
       "      <td>0.635201</td>\n",
       "      <td>0.0728847</td>\n",
       "      <td>0.74359</td>\n",
       "    </tr>\n",
       "    <tr>\n",
       "      <th>2</th>\n",
       "      <td>0.648948</td>\n",
       "      <td>0.0371159</td>\n",
       "      <td>0.690476</td>\n",
       "    </tr>\n",
       "    <tr>\n",
       "      <th>3</th>\n",
       "      <td>0.675</td>\n",
       "      <td>0.0518411</td>\n",
       "      <td>0.375</td>\n",
       "    </tr>\n",
       "    <tr>\n",
       "      <th>4</th>\n",
       "      <td>0.60144</td>\n",
       "      <td>0.077732</td>\n",
       "      <td>0.533333</td>\n",
       "    </tr>\n",
       "    <tr>\n",
       "      <th>5</th>\n",
       "      <td>0.549612</td>\n",
       "      <td>0.0529668</td>\n",
       "      <td>0.577778</td>\n",
       "    </tr>\n",
       "    <tr>\n",
       "      <th>6</th>\n",
       "      <td>0.704413</td>\n",
       "      <td>0.0716699</td>\n",
       "      <td>0.428571</td>\n",
       "    </tr>\n",
       "    <tr>\n",
       "      <th>7</th>\n",
       "      <td>0.585513</td>\n",
       "      <td>0.0566123</td>\n",
       "      <td>0.448276</td>\n",
       "    </tr>\n",
       "    <tr>\n",
       "      <th>8</th>\n",
       "      <td>0.596341</td>\n",
       "      <td>0.144086</td>\n",
       "      <td>0.592593</td>\n",
       "    </tr>\n",
       "    <tr>\n",
       "      <th>9</th>\n",
       "      <td>0.543205</td>\n",
       "      <td>0.126865</td>\n",
       "      <td>0.637931</td>\n",
       "    </tr>\n",
       "    <tr>\n",
       "      <th>10</th>\n",
       "      <td>0.653659</td>\n",
       "      <td>0.0604366</td>\n",
       "      <td>0.607843</td>\n",
       "    </tr>\n",
       "    <tr>\n",
       "      <th>11</th>\n",
       "      <td>0.678543</td>\n",
       "      <td>0.101304</td>\n",
       "      <td>0.822581</td>\n",
       "    </tr>\n",
       "    <tr>\n",
       "      <th>12</th>\n",
       "      <td>0.579487</td>\n",
       "      <td>0.122058</td>\n",
       "      <td>0.180328</td>\n",
       "    </tr>\n",
       "    <tr>\n",
       "      <th>13</th>\n",
       "      <td>0.658537</td>\n",
       "      <td>0.0539901</td>\n",
       "      <td>0.392157</td>\n",
       "    </tr>\n",
       "    <tr>\n",
       "      <th>14</th>\n",
       "      <td>0.537652</td>\n",
       "      <td>0.0652701</td>\n",
       "      <td>0.634921</td>\n",
       "    </tr>\n",
       "    <tr>\n",
       "      <th>15</th>\n",
       "      <td>0.590476</td>\n",
       "      <td>0.0683462</td>\n",
       "      <td>0.717391</td>\n",
       "    </tr>\n",
       "  </tbody>\n",
       "</table>\n",
       "</div>"
      ],
      "text/plain": [
       "   train_avg_accuracy train_std_accuracy test_accuracy\n",
       "0            0.650871          0.0577851          0.78\n",
       "1            0.635201          0.0728847       0.74359\n",
       "2            0.648948          0.0371159      0.690476\n",
       "3               0.675          0.0518411         0.375\n",
       "4             0.60144           0.077732      0.533333\n",
       "5            0.549612          0.0529668      0.577778\n",
       "6            0.704413          0.0716699      0.428571\n",
       "7            0.585513          0.0566123      0.448276\n",
       "8            0.596341           0.144086      0.592593\n",
       "9            0.543205           0.126865      0.637931\n",
       "10           0.653659          0.0604366      0.607843\n",
       "11           0.678543           0.101304      0.822581\n",
       "12           0.579487           0.122058      0.180328\n",
       "13           0.658537          0.0539901      0.392157\n",
       "14           0.537652          0.0652701      0.634921\n",
       "15           0.590476          0.0683462      0.717391"
      ]
     },
     "execution_count": 8,
     "metadata": {},
     "output_type": "execute_result"
    }
   ],
   "source": [
    "ls = [\"train_avg_accuracy\",\"train_std_accuracy\",\"test_accuracy\"]\n",
    "\n",
    "final_mean = pd.DataFrame()\n",
    "final_dataset_mean = pd.DataFrame()\n",
    "folder = \"V_models/repeat_new_\"\n",
    "\n",
    "final = pd.DataFrame()\n",
    "final_dataset = pd.DataFrame()\n",
    "for i in tqdm([i for i in range(4)]+[i for i in range(5,10)]+[i for i in range(11,15)]+[17,18,19]):\n",
    "    result = pd.read_csv(folder +str(i)+\".txt\")\n",
    "    result = result.sort_values(by=[\"train_avg_accuracy\"], ascending=False)\n",
    "    best_result = result.iloc[0]\n",
    "    final = pd.concat([final, best_result[ls].T],axis=1)\n",
    "    final_dataset = pd.concat([final_dataset, best_result[[\"train_dataset_accuracy\",\"test_dataset_accuracy\"]].T],axis=1)\n",
    "final = final.T.reset_index(drop=True)\n",
    "final_dataset = final_dataset.T.reset_index(drop=True)\n",
    "final_mean = pd.concat([final_mean, pd.DataFrame(final.mean(),columns=[j]).T])\n",
    "final_dataset_float = final_dataset.applymap(str2float)\n",
    "final_dataset_mean = pd.concat([final_dataset_mean, pd.DataFrame(final_dataset_float.mean(),columns=[j]).T])\n",
    "final\n"
   ]
  },
  {
   "cell_type": "code",
   "execution_count": 12,
   "metadata": {
    "collapsed": false
   },
   "outputs": [
    {
     "data": {
      "text/plain": [
       "Index(['Unnamed: 0', 'n_estimators', 'min_weight_fraction_leaf',\n",
       "       'min_samples_split', 'min_samples_leaf', 'max_samples', 'max_depth',\n",
       "       'bootstrap', 'ah', 'ap', 'train_avg_accuracy', 'train_avg_recall',\n",
       "       'train_avg_specificity', 'train_avg_f1', 'train_avg_precision',\n",
       "       'train_std_accuracy', 'train_std_recall', 'train_std_specificity',\n",
       "       'train_std_f1', 'train_std_precision', 'test_accuracy', 'test_recall',\n",
       "       'test_specificity', 'test_f1', 'test_precision',\n",
       "       'train_dataset_accuracy', 'test_dataset_accuracy'],\n",
       "      dtype='object')"
      ]
     },
     "execution_count": 12,
     "metadata": {},
     "output_type": "execute_result"
    }
   ],
   "source": [
    "result = pd.read_csv(\"/local/wujimeng/code_jimeng/c_cte/GitHub/V_models/better from RF_tuned/repeat_2.txt\")\n",
    "result.columns"
   ]
  },
  {
   "cell_type": "code",
   "execution_count": 32,
   "metadata": {
    "collapsed": false
   },
   "outputs": [
    {
     "data": {
      "text/plain": [
       "array([1, 2, 3, 4, 5, 6, 7, 8, 9])"
      ]
     },
     "execution_count": 32,
     "metadata": {},
     "output_type": "execute_result"
    }
   ],
   "source": [
    "result.max_depth.unique()"
   ]
  },
  {
   "cell_type": "code",
   "execution_count": 31,
   "metadata": {
    "collapsed": false
   },
   "outputs": [
    {
     "data": {
      "text/plain": [
       "[0.1, 0.325, 0.55, 0.775, 1.0, 0.2, 0.3, 0.4, 0.5, 0.6, 0.7, 0.8, 0.9]"
      ]
     },
     "execution_count": 31,
     "metadata": {},
     "output_type": "execute_result"
    }
   ],
   "source": [
    "[i for i in np.linspace(start=0.1, stop=1, num=5)] + [i for i in np.linspace(start=0.2, stop=0.9, num=8)]"
   ]
  },
  {
   "cell_type": "code",
   "execution_count": null,
   "metadata": {
    "collapsed": true
   },
   "outputs": [],
   "source": [
    "        \"n_estimators\": [int(x) for x in np.linspace(start=10, stop=100, num=5)]\n",
    "        + [int(x) for x in np.linspace(start=2, stop=5, num=4)],\n",
    "        \"max_depth\": [i for i in np.linspace(start=0.01, stop=1, num=5)]+ [i for i in range(2, 10, 1)]+ [i for i in range(10, 100, 20)]+ [None],\n",
    "        \"min_samples_leaf\": [i for i in np.linspace(start=0.01, stop=0.5, num=5)]        + [i for i in np.linspace(start=0.1, stop=0.4, num=4)] + [1,2,4],\n",
    "        \"min_samples_split\":[i for i in np.linspace(start=0.1, stop=1, num=5)] + [2,4,6],\n",
    "        \"max_samples\": [i for i in np.linspace(start=0.1, stop=1, num=5)] + [i for i in np.linspace(start=0.2, stop=0.9, num=8)],\n"
   ]
  },
  {
   "cell_type": "markdown",
   "metadata": {},
   "source": [
    "# T_median_ML"
   ]
  },
  {
   "cell_type": "code",
   "execution_count": 539,
   "metadata": {
    "collapsed": false,
    "scrolled": true
   },
   "outputs": [
    {
     "data": {
      "text/html": [
       "<div>\n",
       "<style scoped>\n",
       "    .dataframe tbody tr th:only-of-type {\n",
       "        vertical-align: middle;\n",
       "    }\n",
       "\n",
       "    .dataframe tbody tr th {\n",
       "        vertical-align: top;\n",
       "    }\n",
       "\n",
       "    .dataframe thead th {\n",
       "        text-align: right;\n",
       "    }\n",
       "</style>\n",
       "<table border=\"1\" class=\"dataframe\">\n",
       "  <thead>\n",
       "    <tr style=\"text-align: right;\">\n",
       "      <th></th>\n",
       "      <th>train_avg_accuracy</th>\n",
       "      <th>train_std_accuracy</th>\n",
       "      <th>test_accuracy</th>\n",
       "    </tr>\n",
       "  </thead>\n",
       "  <tbody>\n",
       "    <tr>\n",
       "      <th>0</th>\n",
       "      <td>0.775122</td>\n",
       "      <td>0.0912398</td>\n",
       "      <td>0.259259</td>\n",
       "    </tr>\n",
       "  </tbody>\n",
       "</table>\n",
       "</div>"
      ],
      "text/plain": [
       "  train_avg_accuracy train_std_accuracy test_accuracy\n",
       "0           0.775122          0.0912398      0.259259"
      ]
     },
     "execution_count": 539,
     "metadata": {},
     "output_type": "execute_result"
    }
   ],
   "source": [
    "ls = [\"train_avg_accuracy\",\"train_std_accuracy\",\"test_accuracy\"]\n",
    "folder  = \"/local/wujimeng/code_jimeng/c_cte/GitHub/\"\n",
    "final_mean = pd.DataFrame()\n",
    "final_dataset_mean = pd.DataFrame()\n",
    "for j in [\"T_models/T_median_ml/repeat_own_label_\",]:\n",
    "\n",
    "    final = pd.DataFrame()\n",
    "    final_dataset = pd.DataFrame()\n",
    "\n",
    "     for i in tqdm([i for i in range(4)]+[i for i in range(5,10)]+[i for i in range(11,15)]+[17,18,19]):\n",
    "\n",
    "        result = pd.read_csv(folder + j+str(i)+\".txt\")\n",
    "        result = result.sort_values(by=[\"train_avg_accuracy\",\"test_accuracy\"], ascending=False)\n",
    "        best_result = result.iloc[0]\n",
    "\n",
    "        final = pd.concat([final, best_result[ls].T],axis=1)\n",
    "        final_dataset = pd.concat([final_dataset, best_result[[\"train_dataset_accuracy\",\"test_dataset_accuracy\"]].T],axis=1)\n",
    "    final = final.T.reset_index(drop=True)\n",
    "    final_dataset = final_dataset.T.reset_index(drop=True)\n",
    "    final_mean = pd.concat([final_mean, pd.DataFrame(final.mean(),columns=[j]).T])\n",
    "    final_dataset_float = final_dataset.applymap(str2float)\n",
    "    final_dataset_mean = pd.concat([final_dataset_mean, pd.DataFrame(final_dataset_float.mean(),columns=[j]).T])\n",
    "final\n",
    "# final_dataset_float\n",
    "# np.where(final!=final2)"
   ]
  },
  {
   "cell_type": "markdown",
   "metadata": {},
   "source": [
    "# T_tuned_ML"
   ]
  },
  {
   "cell_type": "code",
   "execution_count": null,
   "metadata": {
    "collapsed": true
   },
   "outputs": [],
   "source": [
    "ls = [\"train_avg_accuracy\",\"train_std_accuracy\",\"test_accuracy\"]\n",
    "folder  = \"/local/wujimeng/code_jimeng/c_cte/GitHub/\"\n",
    "final_mean = pd.DataFrame()\n",
    "final_dataset_mean = pd.DataFrame()\n",
    "# for j in [\"T_models/T_median_ml/repeat_own_label_new_\",]:\n",
    "for j in [\"T_models/T_tuned_ml/repeat_own_label_\",]:\n",
    "\n",
    "    final = pd.DataFrame()\n",
    "    final_dataset = pd.DataFrame()\n",
    "    for i in tqdm([i for i in range(4)]+[i for i in range(5,10)]+[i for i in range(11,15)]+[17,18,19]):\n",
    "\n",
    "        result = pd.read_csv(folder + j+str(i)+\".txt\")\n",
    "        result = result.sort_values(by=[\"train_avg_accuracy\",\"test_accuracy\"], ascending=False)\n",
    "        best_result = result.iloc[0]\n",
    "\n",
    "        final = pd.concat([final, best_result[ls].T],axis=1)\n",
    "        final_dataset = pd.concat([final_dataset, best_result[[\"train_dataset_accuracy\",\"test_dataset_accuracy\"]].T],axis=1)\n",
    "    final = final.T.reset_index(drop=True)\n",
    "    final_dataset = final_dataset.T.reset_index(drop=True)\n",
    "    final_mean = pd.concat([final_mean, pd.DataFrame(final.mean(),columns=[j]).T])\n",
    "    final_dataset_float = final_dataset.applymap(str2float)\n",
    "    final_dataset_mean = pd.concat([final_dataset_mean, pd.DataFrame(final_dataset_float.mean(),columns=[j]).T])\n",
    "final\n",
    "# final_dataset_float\n",
    "# np.where(final!=final2)"
   ]
  },
  {
   "cell_type": "markdown",
   "metadata": {},
   "source": [
    "# T_num_ML"
   ]
  },
  {
   "cell_type": "code",
   "execution_count": 335,
   "metadata": {
    "collapsed": false,
    "scrolled": true
   },
   "outputs": [
    {
     "name": "stderr",
     "output_type": "stream",
     "text": [
      "100%|██████████| 16/16 [00:00<00:00, 123.85it/s]\n"
     ]
    },
    {
     "data": {
      "text/plain": [
       "(array([ 0,  0,  0,  1,  1,  2,  2,  2,  3,  3,  3,  4,  4,  4,  6,  6,  7,\n",
       "         7,  8,  8,  8,  9, 11, 11, 12, 12, 13, 13, 14, 14, 15, 15]),\n",
       " array([0, 1, 2, 0, 1, 0, 1, 2, 0, 1, 2, 0, 1, 2, 0, 1, 0, 1, 0, 1, 2, 2,\n",
       "        0, 1, 0, 1, 0, 1, 0, 1, 0, 1]))"
      ]
     },
     "execution_count": 335,
     "metadata": {},
     "output_type": "execute_result"
    }
   ],
   "source": [
    "ls = [\"train_avg_accuracy\",\"train_std_accuracy\",\"test_accuracy\"]\n",
    "folder  = \"/local/wujimeng/code_jimeng/c_cte/GitHub/T_models/\"\n",
    "final_mean = pd.DataFrame()\n",
    "final_dataset_mean = pd.DataFrame()\n",
    "# for j in [\"T_median_ml/repeat_own_label_new_\",]:\n",
    "# for j in [\"T_tuned_ml/repeat_own_label_new_\",]:\n",
    "for j in [\"T_num_ml/repeat_own_number_normal_\"]:\n",
    "\n",
    "    final = pd.DataFrame()\n",
    "    final_dataset = pd.DataFrame()\n",
    "#     for i in range(1):\n",
    "    for i in tqdm([i for i in range(4)]+[i for i in range(5,10)]+[i for i in range(11,15)]+[17,18,19]):\n",
    "        result = pd.read_csv(folder + j+str(i)+\".txt\")\n",
    "        result = result.sort_values(by=[\"train_avg_accuracy\",\"test_accuracy\"], ascending=False)\n",
    "        best_result = result.iloc[0]\n",
    "\n",
    "        final = pd.concat([final, best_result[ls].T],axis=1)\n",
    "        final_dataset = pd.concat([final_dataset, best_result[[\"train_dataset_accuracy\",\"test_dataset_accuracy\"]].T],axis=1)\n",
    "    final = final.T.reset_index(drop=True)\n",
    "    final_dataset = final_dataset.T.reset_index(drop=True)\n",
    "    final_mean = pd.concat([final_mean, pd.DataFrame(final.mean(),columns=[j]).T])\n",
    "    final_dataset_float = final_dataset.applymap(str2float)\n",
    "    final_dataset_mean = pd.concat([final_dataset_mean, pd.DataFrame(final_dataset_float.mean(),columns=[j]).T])\n",
    "final\n",
    "# final_dataset_float\n",
    "np.where(final!=final2)"
   ]
  },
  {
   "cell_type": "markdown",
   "metadata": {},
   "source": [
    "# T_null => T_tuned, T_median"
   ]
  },
  {
   "cell_type": "code",
   "execution_count": 483,
   "metadata": {
    "collapsed": false
   },
   "outputs": [
    {
     "name": "stderr",
     "output_type": "stream",
     "text": [
      "100%|██████████| 16/16 [00:00<00:00, 162.46it/s]\n"
     ]
    }
   ],
   "source": [
    "ls = [\"train_dataset_accuracy\",\"test_dataset_accuracy\"]\n",
    "folder = \"/local/wujimeng/code_jimeng/c_cte/T_models/\"\n",
    "\n",
    "from tqdm import tqdm\n",
    "# for j in [\"T_null_full/repeat_own_label_\"]:\n",
    "for j in [\"T_median/repeat_own_label_\"]:\n",
    "    final = pd.DataFrame()\n",
    "    final_dataset = pd.DataFrame()\n",
    "#     for i in tqdm(range(20)):\n",
    "    for i in tqdm([i for i in range(4)]+[i for i in range(5,10)]+[i for i in range(11,15)]+[17,18,19]):\n",
    "        result = pd.read_csv(folder + j+str(i)+\".txt\")\n",
    "        result = result.sort_values(by=ls, ascending=False)\n",
    "        best_result = result.iloc[0]\n",
    "\n",
    "        final = pd.concat([final, best_result[ls].T],axis=1)\n",
    "        final_dataset = pd.concat([final_dataset, best_result[[\"train_dataset_accuracy\",\"test_dataset_accuracy\"]].T],axis=1)\n",
    "    final = final.T.reset_index(drop=True)\n",
    "    final_dataset = final_dataset.T.reset_index(drop=True)\n",
    "    final_mean = pd.concat([final_mean, pd.DataFrame(final.mean(),columns=[j]).T])\n",
    "    final_dataset_float = final_dataset.applymap(str2float)\n",
    "    final_dataset_mean = pd.concat([final_dataset_mean, pd.DataFrame(final_dataset_float.mean(),columns=[j]).T])\n",
    "final_dataset_float2 = final_dataset_float"
   ]
  },
  {
   "cell_type": "code",
   "execution_count": 484,
   "metadata": {
    "collapsed": true
   },
   "outputs": [
    {
     "name": "stderr",
     "output_type": "stream",
     "text": [
      "100%|██████████| 16/16 [00:00<00:00, 120.08it/s]"
     ]
    },
    {
     "name": "stdout",
     "output_type": "stream",
     "text": [
      "   Unnamed: 0  threshold train_dataset_accuracy test_dataset_accuracy\n",
      "0           0  10.709906       0.5485 (113/206)           1.0 (50/50)\n",
      "   Unnamed: 0  threshold train_dataset_accuracy test_dataset_accuracy\n",
      "0           0  10.709906       0.6083 (132/217)        0.7949 (31/39)\n",
      "   Unnamed: 0  threshold train_dataset_accuracy test_dataset_accuracy\n",
      "0           0   6.692337       0.7056 (151/214)        0.4762 (20/42)\n",
      "   Unnamed: 0  threshold train_dataset_accuracy test_dataset_accuracy\n",
      "0           0   8.701122        0.765 (153/200)        0.3214 (18/56)\n",
      "   Unnamed: 0  threshold train_dataset_accuracy test_dataset_accuracy\n",
      "0           0  10.709906       0.5829 (123/211)        0.8889 (40/45)\n",
      "   Unnamed: 0  threshold train_dataset_accuracy test_dataset_accuracy\n",
      "0           0  10.709906       0.6825 (144/211)        0.4222 (19/45)\n",
      "   Unnamed: 0  threshold train_dataset_accuracy test_dataset_accuracy\n",
      "0           0    4.06962        0.628 (130/207)        0.4082 (20/49)\n",
      "   Unnamed: 0  threshold train_dataset_accuracy test_dataset_accuracy\n",
      "0           0  13.542669       0.7222 (143/198)        0.6724 (39/58)\n",
      "   Unnamed: 0  threshold train_dataset_accuracy test_dataset_accuracy\n",
      "0           0   6.692337       0.7772 (157/202)        0.2593 (14/54)\n",
      "   Unnamed: 0  threshold train_dataset_accuracy test_dataset_accuracy\n",
      "0           0  10.709906       0.6364 (126/198)        0.6379 (37/58)\n",
      "   Unnamed: 0  threshold train_dataset_accuracy test_dataset_accuracy\n",
      "0           0   6.692337       0.7171 (147/205)        0.4706 (24/51)\n",
      "   Unnamed: 0  threshold train_dataset_accuracy test_dataset_accuracy\n",
      "0           0   6.692337       0.6701 (130/194)        0.6613 (41/62)\n",
      "   Unnamed: 0  threshold train_dataset_accuracy test_dataset_accuracy\n",
      "0           0   3.746165       0.7333 (143/195)         0.1475 (9/61)\n",
      "   Unnamed: 0  threshold train_dataset_accuracy test_dataset_accuracy\n",
      "0           0   3.746165       0.6585 (135/205)        0.3333 (17/51)\n",
      "   Unnamed: 0  threshold train_dataset_accuracy test_dataset_accuracy\n",
      "0           0   6.692337        0.658 (127/193)        0.6984 (44/63)\n",
      "   Unnamed: 0  threshold train_dataset_accuracy test_dataset_accuracy\n",
      "0           0  13.542669       0.7143 (150/210)        0.6957 (32/46)\n"
     ]
    },
    {
     "name": "stderr",
     "output_type": "stream",
     "text": [
      "\n"
     ]
    },
    {
     "data": {
      "text/plain": [
       "(array([ 0,  1,  4,  5,  6,  7,  7,  9, 12, 12, 13, 13, 15]),\n",
       " array([0, 0, 0, 0, 1, 0, 1, 0, 0, 1, 0, 1, 0]))"
      ]
     },
     "execution_count": 484,
     "metadata": {},
     "output_type": "execute_result"
    }
   ],
   "source": [
    "ls = [\"train_dataset_accuracy\",\"test_dataset_accuracy\"]\n",
    "folder = \"/local/wujimeng/code_jimeng/c_cte/GitHub/T_models/\"\n",
    "\n",
    "from tqdm import tqdm\n",
    "# for j in [\"T_null/repeat_own_label_new_\"]:\n",
    "for j in [\"T_median/repeat_own_label_\"]:\n",
    "    final = pd.DataFrame()\n",
    "    final_dataset = pd.DataFrame()\n",
    "#     for i in range(20):\n",
    "#     for i in [14]:\n",
    "    for i in tqdm([i for i in range(4)]+[i for i in range(5,10)]+[i for i in range(11,15)]+[17,18,19]):\n",
    "        result = pd.read_csv(folder + j+str(i)+\".txt\")\n",
    "        print(result)\n",
    "        result = result.sort_values(by=ls, ascending=False)\n",
    "        best_result = result.iloc[0]\n",
    "\n",
    "        final = pd.concat([final, best_result[ls].T],axis=1)\n",
    "        final_dataset = pd.concat([final_dataset, best_result[[\"train_dataset_accuracy\",\"test_dataset_accuracy\"]].T],axis=1)\n",
    "    final = final.T.reset_index(drop=True)\n",
    "    final_dataset = final_dataset.T.reset_index(drop=True)\n",
    "    final_mean = pd.concat([final_mean, pd.DataFrame(final.mean(),columns=[j]).T])\n",
    "    final_dataset_float = final_dataset.applymap(str2float)\n",
    "    final_dataset_mean = pd.concat([final_dataset_mean, pd.DataFrame(final_dataset_float.mean(),columns=[j]).T])\n",
    "final_dataset_float\n",
    "np.where(final_dataset_float!=final_dataset_float2)"
   ]
  },
  {
   "cell_type": "code",
   "execution_count": null,
   "metadata": {
    "collapsed": true
   },
   "outputs": [],
   "source": []
  },
  {
   "cell_type": "markdown",
   "metadata": {},
   "source": [
    "## N_mul results"
   ]
  },
  {
   "cell_type": "code",
   "execution_count": 529,
   "metadata": {
    "collapsed": false
   },
   "outputs": [
    {
     "name": "stderr",
     "output_type": "stream",
     "text": [
      "100%|██████████| 3/3 [00:00<00:00, 137.25it/s]\n"
     ]
    }
   ],
   "source": [
    "folder = \"/local/wujimeng/code_jimeng/c_cte/GitHub/n_mul/\"\n",
    "\n",
    "for i in tqdm(range(1,4)):\n",
    "    result = pd.read_csv(folder+\"s_rasar_rasar_bi_\" +str(i)+\".txt\")\n",
    "    result = pd.read_csv(folder+\"s_rasar_rasar_bi_\" +str(i)+\"_fullinfo.txt\")\n"
   ]
  },
  {
   "cell_type": "code",
   "execution_count": 531,
   "metadata": {
    "collapsed": false
   },
   "outputs": [
    {
     "data": {
      "text/html": [
       "<div>\n",
       "<style scoped>\n",
       "    .dataframe tbody tr th:only-of-type {\n",
       "        vertical-align: middle;\n",
       "    }\n",
       "\n",
       "    .dataframe tbody tr th {\n",
       "        vertical-align: top;\n",
       "    }\n",
       "\n",
       "    .dataframe thead th {\n",
       "        text-align: right;\n",
       "    }\n",
       "</style>\n",
       "<table border=\"1\" class=\"dataframe\">\n",
       "  <thead>\n",
       "    <tr style=\"text-align: right;\">\n",
       "      <th></th>\n",
       "      <th>Unnamed: 0</th>\n",
       "      <th>n_estimators</th>\n",
       "      <th>min_samples_split</th>\n",
       "      <th>min_samples_leaf</th>\n",
       "      <th>max_depth</th>\n",
       "      <th>class_weight</th>\n",
       "      <th>train_avg_accuracy</th>\n",
       "      <th>train_avg_recall</th>\n",
       "      <th>train_avg_specificity</th>\n",
       "      <th>train_avg_f1</th>\n",
       "      <th>...</th>\n",
       "      <th>train_std_f1</th>\n",
       "      <th>train_std_precision</th>\n",
       "      <th>test_accuracy</th>\n",
       "      <th>test_recall</th>\n",
       "      <th>test_specificity</th>\n",
       "      <th>test_f1</th>\n",
       "      <th>test_precision</th>\n",
       "      <th>alpha_h</th>\n",
       "      <th>alpha_p</th>\n",
       "      <th>num_neighbor</th>\n",
       "    </tr>\n",
       "  </thead>\n",
       "  <tbody>\n",
       "    <tr>\n",
       "      <th>0</th>\n",
       "      <td>0</td>\n",
       "      <td>260</td>\n",
       "      <td>2</td>\n",
       "      <td>8</td>\n",
       "      <td>30</td>\n",
       "      <td>NaN</td>\n",
       "      <td>0.937936</td>\n",
       "      <td>0.0</td>\n",
       "      <td>1.0</td>\n",
       "      <td>0.0</td>\n",
       "      <td>...</td>\n",
       "      <td>0.0</td>\n",
       "      <td>0.0</td>\n",
       "      <td>0.918919</td>\n",
       "      <td>0.0</td>\n",
       "      <td>1.0</td>\n",
       "      <td>0.0</td>\n",
       "      <td>0.0</td>\n",
       "      <td>0.01</td>\n",
       "      <td>0.01</td>\n",
       "      <td>3</td>\n",
       "    </tr>\n",
       "    <tr>\n",
       "      <th>1</th>\n",
       "      <td>0</td>\n",
       "      <td>260</td>\n",
       "      <td>2</td>\n",
       "      <td>8</td>\n",
       "      <td>30</td>\n",
       "      <td>NaN</td>\n",
       "      <td>0.937936</td>\n",
       "      <td>0.0</td>\n",
       "      <td>1.0</td>\n",
       "      <td>0.0</td>\n",
       "      <td>...</td>\n",
       "      <td>0.0</td>\n",
       "      <td>0.0</td>\n",
       "      <td>0.918919</td>\n",
       "      <td>0.0</td>\n",
       "      <td>1.0</td>\n",
       "      <td>0.0</td>\n",
       "      <td>0.0</td>\n",
       "      <td>0.01</td>\n",
       "      <td>1.00</td>\n",
       "      <td>3</td>\n",
       "    </tr>\n",
       "    <tr>\n",
       "      <th>2</th>\n",
       "      <td>0</td>\n",
       "      <td>260</td>\n",
       "      <td>2</td>\n",
       "      <td>8</td>\n",
       "      <td>30</td>\n",
       "      <td>NaN</td>\n",
       "      <td>0.937936</td>\n",
       "      <td>0.0</td>\n",
       "      <td>1.0</td>\n",
       "      <td>0.0</td>\n",
       "      <td>...</td>\n",
       "      <td>0.0</td>\n",
       "      <td>0.0</td>\n",
       "      <td>0.918919</td>\n",
       "      <td>0.0</td>\n",
       "      <td>1.0</td>\n",
       "      <td>0.0</td>\n",
       "      <td>0.0</td>\n",
       "      <td>1.00</td>\n",
       "      <td>0.01</td>\n",
       "      <td>3</td>\n",
       "    </tr>\n",
       "    <tr>\n",
       "      <th>3</th>\n",
       "      <td>0</td>\n",
       "      <td>260</td>\n",
       "      <td>2</td>\n",
       "      <td>8</td>\n",
       "      <td>30</td>\n",
       "      <td>NaN</td>\n",
       "      <td>0.937936</td>\n",
       "      <td>0.0</td>\n",
       "      <td>1.0</td>\n",
       "      <td>0.0</td>\n",
       "      <td>...</td>\n",
       "      <td>0.0</td>\n",
       "      <td>0.0</td>\n",
       "      <td>0.918919</td>\n",
       "      <td>0.0</td>\n",
       "      <td>1.0</td>\n",
       "      <td>0.0</td>\n",
       "      <td>0.0</td>\n",
       "      <td>1.00</td>\n",
       "      <td>1.00</td>\n",
       "      <td>3</td>\n",
       "    </tr>\n",
       "  </tbody>\n",
       "</table>\n",
       "<p>4 rows × 24 columns</p>\n",
       "</div>"
      ],
      "text/plain": [
       "   Unnamed: 0  n_estimators  min_samples_split  min_samples_leaf  max_depth  \\\n",
       "0           0           260                  2                 8         30   \n",
       "1           0           260                  2                 8         30   \n",
       "2           0           260                  2                 8         30   \n",
       "3           0           260                  2                 8         30   \n",
       "\n",
       "   class_weight  train_avg_accuracy  train_avg_recall  train_avg_specificity  \\\n",
       "0           NaN            0.937936               0.0                    1.0   \n",
       "1           NaN            0.937936               0.0                    1.0   \n",
       "2           NaN            0.937936               0.0                    1.0   \n",
       "3           NaN            0.937936               0.0                    1.0   \n",
       "\n",
       "   train_avg_f1  ...  train_std_f1  train_std_precision  test_accuracy  \\\n",
       "0           0.0  ...           0.0                  0.0       0.918919   \n",
       "1           0.0  ...           0.0                  0.0       0.918919   \n",
       "2           0.0  ...           0.0                  0.0       0.918919   \n",
       "3           0.0  ...           0.0                  0.0       0.918919   \n",
       "\n",
       "   test_recall  test_specificity  test_f1  test_precision  alpha_h  alpha_p  \\\n",
       "0          0.0               1.0      0.0             0.0     0.01     0.01   \n",
       "1          0.0               1.0      0.0             0.0     0.01     1.00   \n",
       "2          0.0               1.0      0.0             0.0     1.00     0.01   \n",
       "3          0.0               1.0      0.0             0.0     1.00     1.00   \n",
       "\n",
       "   num_neighbor  \n",
       "0             3  \n",
       "1             3  \n",
       "2             3  \n",
       "3             3  \n",
       "\n",
       "[4 rows x 24 columns]"
      ]
     },
     "execution_count": 531,
     "metadata": {},
     "output_type": "execute_result"
    }
   ],
   "source": [
    "result"
   ]
  }
 ],
 "metadata": {
  "anaconda-cloud": {},
  "kernelspec": {
   "display_name": "Python [conda env:rdkit-test]",
   "language": "python",
   "name": "conda-env-rdkit-test-py"
  },
  "language_info": {
   "codemirror_mode": {
    "name": "ipython",
    "version": 3
   },
   "file_extension": ".py",
   "mimetype": "text/x-python",
   "name": "python",
   "nbconvert_exporter": "python",
   "pygments_lexer": "ipython3",
   "version": "3.6.2"
  }
 },
 "nbformat": 4,
 "nbformat_minor": 1
}
