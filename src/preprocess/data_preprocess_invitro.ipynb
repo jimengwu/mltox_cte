{
 "cells": [
  {
   "cell_type": "code",
   "execution_count": 1,
   "metadata": {
    "collapsed": true
   },
   "outputs": [],
   "source": [
    "from helper_dataprocessing import *\n",
    "import os\n",
    "def create_directory(outdir,outname):\n",
    "    if not os.path.exists(outdir):\n",
    "        os.makedirs(outdir)\n",
    "    return os.path.join(outdir, outname)   \n",
    "outdir = '/local/wujimeng/code_jimeng/data/invitro'"
   ]
  },
  {
   "cell_type": "code",
   "execution_count": 2,
   "metadata": {
    "collapsed": false
   },
   "outputs": [
    {
     "name": "stdout",
     "output_type": "stream",
     "text": [
      "start loading the properties data...\n",
      "/local/wujimeng/code_simone/data/DSSToxQueryWPred1.xlsx loaded Fri Jul 23 11:55:20 2021\n",
      "/local/wujimeng/code_simone/data/DSSToxQueryWPred2.xlsx loaded Fri Jul 23 11:57:43 2021\n",
      "/local/wujimeng/code_simone/data/DSSToxQueryWPred3.xlsx loaded Fri Jul 23 11:59:59 2021\n",
      "/local/wujimeng/code_simone/data/DSSToxQueryWPred4.xlsx loaded Fri Jul 23 12:01:49 2021\n"
     ]
    }
   ],
   "source": [
    "print(\"start loading the properties data...\")\n",
    "DATA_PROPERTY_PATH = [\n",
    "    '/local/wujimeng/code_simone/data/DSSToxQueryWPred1.xlsx', '/local/wujimeng/code_simone/data/DSSToxQueryWPred2.xlsx',\n",
    "    '/local/wujimeng/code_simone/data/DSSToxQueryWPred3.xlsx', '/local/wujimeng/code_simone/data/DSSToxQueryWPred4.xlsx'\n",
    "]\n",
    "\n",
    "df_property = pd.DataFrame()\n",
    "for i in DATA_PROPERTY_PATH:\n",
    "    df_property = pd.concat(\n",
    "        [\n",
    "            df_property,\n",
    "            pd.read_excel(\n",
    "                open(i, \"rb\"),\n",
    "                usecols=[\n",
    "                    \"Substance_CASRN\",\n",
    "                    \"Structure_SMILES\",\n",
    "                    \"Structure_MolWt\",\n",
    "                    \"NCCT_MP\",\n",
    "                    \"NCCT_WS\",\n",
    "                ],\n",
    "                engine=\"openpyxl\",\n",
    "            ),\n",
    "        ],\n",
    "        axis=0,\n",
    "    )\n",
    "    print(str(i) + \" loaded\", ctime())\n",
    "df_property = df_property.rename(\n",
    "    {\n",
    "        \"Substance_CASRN\": \"cas_number\",\n",
    "        \"Structure_SMILES\": \"smiles\",\n",
    "        \"Structure_MolWt\": \"mol_weight\",\n",
    "        \"NCCT_MP\": \"melting_point\",\n",
    "        \"NCCT_WS\": \"water_solubility\",\n",
    "    },\n",
    "    axis=1,\n",
    ")"
   ]
  },
  {
   "cell_type": "code",
   "execution_count": 3,
   "metadata": {
    "collapsed": false
   },
   "outputs": [
    {
     "data": {
      "text/plain": [
       "121"
      ]
     },
     "execution_count": 3,
     "metadata": {},
     "output_type": "execute_result"
    }
   ],
   "source": [
    "results = pd.read_csv(\"/local/wujimeng/jupyter_projects/data/raw/celltox_database_200902.csv\").drop(columns = ['Unnamed: 0','corresponding_researcher','full_name','corresponding_researcher','experimenter','dosing_direct_or_indirect'])\n",
    "# cas_property = pd.read_csv(\"data/invitro/cas_property_invitro.csv\").drop(columns = ['Unnamed: 0'])\n",
    "len(results.chemical_name.unique())"
   ]
  },
  {
   "cell_type": "code",
   "execution_count": 5,
   "metadata": {
    "collapsed": false
   },
   "outputs": [
    {
     "data": {
      "text/plain": [
       "103"
      ]
     },
     "execution_count": 5,
     "metadata": {},
     "output_type": "execute_result"
    }
   ],
   "source": [
    "null_output_counts(results)\n",
    "final_db = results.merge(df_property, on='cas_number')\n",
    "len(final_db.chemical_name.unique())"
   ]
  },
  {
   "cell_type": "code",
   "execution_count": 7,
   "metadata": {
    "collapsed": false
   },
   "outputs": [
    {
     "name": "stderr",
     "output_type": "stream",
     "text": [
      "100%|██████████| 102/102 [01:29<00:00,  1.14it/s]\n"
     ]
    }
   ],
   "source": [
    "from tqdm import tqdm\n",
    "def smiles_to_pubchem(df):\n",
    "\n",
    "    pubchem = pd.DataFrame()\n",
    "    pubchem[\"smiles\"] = df[\"smiles\"].unique()\n",
    "    pubchem[\"pubchem2d\"] = np.nan\n",
    "    for i in tqdm(range(pubchem.shape[0])):\n",
    "        try:\n",
    "            pubchem.loc[i, \"pubchem2d\"] = pcp.get_compounds(\n",
    "                pubchem[\"smiles\"][i], \"smiles\"\n",
    "            )[0].cactvs_fingerprint\n",
    "        except:\n",
    "            pubchem.loc[i, \"pubchem2d\"] = np.nan\n",
    "    df_pubchem = df.merge(pubchem, on=\"smiles\")\n",
    "\n",
    "    return df_pubchem\n",
    "\n",
    "final_pub = smiles_to_pubchem(final_db)"
   ]
  },
  {
   "cell_type": "code",
   "execution_count": 10,
   "metadata": {
    "collapsed": false,
    "scrolled": true
   },
   "outputs": [
    {
     "data": {
      "text/plain": [
       "99"
      ]
     },
     "execution_count": 10,
     "metadata": {},
     "output_type": "execute_result"
    }
   ],
   "source": [
    "final = final_pub[~final_pub.smiles.isnull()]\n",
    "final = final[~final.pubchem2d.isnull()]\n",
    "null_output_counts(final)\n",
    "len(final.chemical_name.unique())"
   ]
  },
  {
   "cell_type": "code",
   "execution_count": 42,
   "metadata": {
    "collapsed": true
   },
   "outputs": [],
   "source": [
    "def extract_mol_properties(features):\n",
    "    features = features[~features.smiles.isnull()]\n",
    "    features = features[~features.pubchem2d.isnull()]\n",
    "    chem_feat = adding_smiles_features(features)\n",
    "    to_drop_nofeat = chem_feat[chem_feat[\"bonds_number\"] == np.nan].index\n",
    "    chem_feat.drop(to_drop_nofeat, inplace=True)\n",
    "#     to_drop_null = chem_feat[chem_feat.isnull().any(axis=1)].index\n",
    "#     chem_feat.drop(index=to_drop_null, inplace=True)\n",
    "    return chem_feat"
   ]
  },
  {
   "cell_type": "code",
   "execution_count": 43,
   "metadata": {
    "collapsed": false
   },
   "outputs": [
    {
     "name": "stdout",
     "output_type": "stream",
     "text": [
      "Finding atom number...\n",
      "Finding number of alone atoms...\n",
      "Finding single bounds number...\n",
      "Finding double bounds number...\n",
      "Finding triple bounds number...\n",
      "Finding ring number...\n",
      "Finding morgan density...\n",
      "Finding partition number (LogP)...\n",
      "Finding number of OH group...\n",
      "Finding melting point...\n",
      "Finding water solubility...\n"
     ]
    }
   ],
   "source": [
    "chemical = extract_mol_properties(final)\n",
    "# chemical = chemical.drop(['melting_unit'],axis=1)"
   ]
  },
  {
   "cell_type": "code",
   "execution_count": 45,
   "metadata": {
    "collapsed": false
   },
   "outputs": [
    {
     "data": {
      "text/plain": [
       "98"
      ]
     },
     "execution_count": 45,
     "metadata": {},
     "output_type": "execute_result"
    }
   ],
   "source": [
    "null_output_counts(chemical)\n",
    "len(chemical.chemical_name.unique())"
   ]
  },
  {
   "cell_type": "markdown",
   "metadata": {},
   "source": [
    "<font size=5>Remove null value"
   ]
  },
  {
   "cell_type": "code",
   "execution_count": 89,
   "metadata": {
    "collapsed": false
   },
   "outputs": [],
   "source": [
    "results_pre = chemical.copy()"
   ]
  },
  {
   "cell_type": "code",
   "execution_count": 90,
   "metadata": {
    "collapsed": false
   },
   "outputs": [],
   "source": [
    "for label in ['_log_kow','_solubility','_henry_constant']:\n",
    "    results_pre = results_pre.drop(['experimental'+label,'estimated'+label,\"user_corrected_experimental\"+label],axis=1)"
   ]
  },
  {
   "cell_type": "code",
   "execution_count": 91,
   "metadata": {
    "collapsed": false
   },
   "outputs": [],
   "source": [
    "results_pre = results_pre.rename(columns = {\"cas_number\":\"test_cas\"})"
   ]
  },
  {
   "cell_type": "code",
   "execution_count": 92,
   "metadata": {
    "collapsed": true
   },
   "outputs": [
    {
     "data": {
      "text/plain": [
       "Index(['exposure_id', 'chemical_name', 'test_cas', 'molecular_weight',\n",
       "       'cell_line', 'endpoint', 'timepoint_hour', 'insert', 'passive_dosing',\n",
       "       'plate_size', 'solvent', 'conc_determination_nominal_or_measured',\n",
       "       'medium', 'fbs', 'ec50', 'ec50_ci_lower', 'ec50_ci_upper', 'ec10',\n",
       "       'ec10_ci_lower', 'ec10_ci_upper', 'ntc', 'smiles', 'mol_weight',\n",
       "       'melting_point', 'water_solubility', 'pubchem2d', 'atom_number',\n",
       "       'alone_atom_number', 'bonds_number', 'doubleBond', 'tripleBond',\n",
       "       'ring_number', 'MorganDensity', 'LogP', 'oh_count'],\n",
       "      dtype='object')"
      ]
     },
     "execution_count": 92,
     "metadata": {},
     "output_type": "execute_result"
    }
   ],
   "source": [
    "results_pre.columns"
   ]
  },
  {
   "cell_type": "code",
   "execution_count": 97,
   "metadata": {
    "collapsed": false
   },
   "outputs": [
    {
     "data": {
      "text/plain": [
       "92"
      ]
     },
     "execution_count": 97,
     "metadata": {},
     "output_type": "execute_result"
    }
   ],
   "source": [
    "results_pre = results_pre[~results_pre.water_solubility.isnull()]\n",
    "results_pre = results_pre[~results_pre.molecular_weight.isnull()]\n",
    "len(results_pre.chemical_name.unique())"
   ]
  },
  {
   "cell_type": "code",
   "execution_count": 98,
   "metadata": {
    "collapsed": false
   },
   "outputs": [
    {
     "data": {
      "text/plain": [
       "92"
      ]
     },
     "execution_count": 98,
     "metadata": {},
     "output_type": "execute_result"
    }
   ],
   "source": [
    "results_pre['fbs'].fillna(0,inplace=True)\n",
    "results_pre['ntc'].fillna(0,inplace=True)\n",
    "len(results_pre.chemical_name.unique())"
   ]
  },
  {
   "cell_type": "code",
   "execution_count": 99,
   "metadata": {
    "collapsed": false
   },
   "outputs": [
    {
     "data": {
      "text/plain": [
       "92"
      ]
     },
     "execution_count": 99,
     "metadata": {},
     "output_type": "execute_result"
    }
   ],
   "source": [
    "results_pre = results_pre[~results_pre.ec50.isnull()]\n",
    "len(results_pre.chemical_name.unique())"
   ]
  },
  {
   "cell_type": "code",
   "execution_count": 101,
   "metadata": {
    "collapsed": true
   },
   "outputs": [],
   "source": [
    "# restictions on experiments conditions\n",
    "results_pre =results_pre[results_pre.medium == 'L15/ex']\n",
    "results_pre =results_pre[results_pre.timepoint_hour == 24]\n",
    "results_pre =results_pre[(results_pre.cell_line == 'RTgill-W1')|(results_pre.cell_line =='RTgutGC')]"
   ]
  },
  {
   "cell_type": "code",
   "execution_count": 102,
   "metadata": {
    "collapsed": true
   },
   "outputs": [
    {
     "data": {
      "text/html": [
       "<div>\n",
       "<style scoped>\n",
       "    .dataframe tbody tr th:only-of-type {\n",
       "        vertical-align: middle;\n",
       "    }\n",
       "\n",
       "    .dataframe tbody tr th {\n",
       "        vertical-align: top;\n",
       "    }\n",
       "\n",
       "    .dataframe thead th {\n",
       "        text-align: right;\n",
       "    }\n",
       "</style>\n",
       "<table border=\"1\" class=\"dataframe\">\n",
       "  <thead>\n",
       "    <tr style=\"text-align: right;\">\n",
       "      <th></th>\n",
       "      <th>null_values_inc_NC_NR%</th>\n",
       "      <th>#outputs</th>\n",
       "    </tr>\n",
       "  </thead>\n",
       "  <tbody>\n",
       "    <tr>\n",
       "      <th>exposure_id</th>\n",
       "      <td>0</td>\n",
       "      <td>658</td>\n",
       "    </tr>\n",
       "    <tr>\n",
       "      <th>chemical_name</th>\n",
       "      <td>0</td>\n",
       "      <td>80</td>\n",
       "    </tr>\n",
       "    <tr>\n",
       "      <th>test_cas</th>\n",
       "      <td>0</td>\n",
       "      <td>80</td>\n",
       "    </tr>\n",
       "    <tr>\n",
       "      <th>molecular_weight</th>\n",
       "      <td>0</td>\n",
       "      <td>77</td>\n",
       "    </tr>\n",
       "    <tr>\n",
       "      <th>cell_line</th>\n",
       "      <td>0</td>\n",
       "      <td>2</td>\n",
       "    </tr>\n",
       "    <tr>\n",
       "      <th>endpoint</th>\n",
       "      <td>0</td>\n",
       "      <td>4</td>\n",
       "    </tr>\n",
       "    <tr>\n",
       "      <th>timepoint_hour</th>\n",
       "      <td>0</td>\n",
       "      <td>1</td>\n",
       "    </tr>\n",
       "    <tr>\n",
       "      <th>insert</th>\n",
       "      <td>0</td>\n",
       "      <td>1</td>\n",
       "    </tr>\n",
       "    <tr>\n",
       "      <th>passive_dosing</th>\n",
       "      <td>0</td>\n",
       "      <td>1</td>\n",
       "    </tr>\n",
       "    <tr>\n",
       "      <th>plate_size</th>\n",
       "      <td>0</td>\n",
       "      <td>1</td>\n",
       "    </tr>\n",
       "    <tr>\n",
       "      <th>solvent</th>\n",
       "      <td>0</td>\n",
       "      <td>3</td>\n",
       "    </tr>\n",
       "    <tr>\n",
       "      <th>conc_determination_nominal_or_measured</th>\n",
       "      <td>0</td>\n",
       "      <td>2</td>\n",
       "    </tr>\n",
       "    <tr>\n",
       "      <th>medium</th>\n",
       "      <td>0</td>\n",
       "      <td>1</td>\n",
       "    </tr>\n",
       "    <tr>\n",
       "      <th>fbs</th>\n",
       "      <td>0</td>\n",
       "      <td>1</td>\n",
       "    </tr>\n",
       "    <tr>\n",
       "      <th>ec50</th>\n",
       "      <td>0</td>\n",
       "      <td>657</td>\n",
       "    </tr>\n",
       "    <tr>\n",
       "      <th>ec50_ci_lower</th>\n",
       "      <td>0</td>\n",
       "      <td>629</td>\n",
       "    </tr>\n",
       "    <tr>\n",
       "      <th>ec50_ci_upper</th>\n",
       "      <td>0</td>\n",
       "      <td>629</td>\n",
       "    </tr>\n",
       "    <tr>\n",
       "      <th>ec10</th>\n",
       "      <td>0</td>\n",
       "      <td>658</td>\n",
       "    </tr>\n",
       "    <tr>\n",
       "      <th>ec10_ci_lower</th>\n",
       "      <td>0</td>\n",
       "      <td>624</td>\n",
       "    </tr>\n",
       "    <tr>\n",
       "      <th>ec10_ci_upper</th>\n",
       "      <td>0</td>\n",
       "      <td>624</td>\n",
       "    </tr>\n",
       "    <tr>\n",
       "      <th>ntc</th>\n",
       "      <td>0</td>\n",
       "      <td>383</td>\n",
       "    </tr>\n",
       "    <tr>\n",
       "      <th>smiles</th>\n",
       "      <td>0</td>\n",
       "      <td>80</td>\n",
       "    </tr>\n",
       "    <tr>\n",
       "      <th>mol_weight</th>\n",
       "      <td>0</td>\n",
       "      <td>79</td>\n",
       "    </tr>\n",
       "    <tr>\n",
       "      <th>melting_point</th>\n",
       "      <td>0</td>\n",
       "      <td>80</td>\n",
       "    </tr>\n",
       "    <tr>\n",
       "      <th>water_solubility</th>\n",
       "      <td>0</td>\n",
       "      <td>80</td>\n",
       "    </tr>\n",
       "    <tr>\n",
       "      <th>pubchem2d</th>\n",
       "      <td>0</td>\n",
       "      <td>80</td>\n",
       "    </tr>\n",
       "    <tr>\n",
       "      <th>atom_number</th>\n",
       "      <td>0</td>\n",
       "      <td>25</td>\n",
       "    </tr>\n",
       "    <tr>\n",
       "      <th>alone_atom_number</th>\n",
       "      <td>0</td>\n",
       "      <td>5</td>\n",
       "    </tr>\n",
       "    <tr>\n",
       "      <th>bonds_number</th>\n",
       "      <td>0</td>\n",
       "      <td>25</td>\n",
       "    </tr>\n",
       "    <tr>\n",
       "      <th>doubleBond</th>\n",
       "      <td>0</td>\n",
       "      <td>10</td>\n",
       "    </tr>\n",
       "    <tr>\n",
       "      <th>tripleBond</th>\n",
       "      <td>0</td>\n",
       "      <td>2</td>\n",
       "    </tr>\n",
       "    <tr>\n",
       "      <th>ring_number</th>\n",
       "      <td>0</td>\n",
       "      <td>6</td>\n",
       "    </tr>\n",
       "    <tr>\n",
       "      <th>MorganDensity</th>\n",
       "      <td>0</td>\n",
       "      <td>53</td>\n",
       "    </tr>\n",
       "    <tr>\n",
       "      <th>LogP</th>\n",
       "      <td>0</td>\n",
       "      <td>78</td>\n",
       "    </tr>\n",
       "    <tr>\n",
       "      <th>oh_count</th>\n",
       "      <td>0</td>\n",
       "      <td>3</td>\n",
       "    </tr>\n",
       "  </tbody>\n",
       "</table>\n",
       "</div>"
      ],
      "text/plain": [
       "                                       null_values_inc_NC_NR% #outputs\n",
       "exposure_id                                                 0      658\n",
       "chemical_name                                               0       80\n",
       "test_cas                                                    0       80\n",
       "molecular_weight                                            0       77\n",
       "cell_line                                                   0        2\n",
       "endpoint                                                    0        4\n",
       "timepoint_hour                                              0        1\n",
       "insert                                                      0        1\n",
       "passive_dosing                                              0        1\n",
       "plate_size                                                  0        1\n",
       "solvent                                                     0        3\n",
       "conc_determination_nominal_or_measured                      0        2\n",
       "medium                                                      0        1\n",
       "fbs                                                         0        1\n",
       "ec50                                                        0      657\n",
       "ec50_ci_lower                                               0      629\n",
       "ec50_ci_upper                                               0      629\n",
       "ec10                                                        0      658\n",
       "ec10_ci_lower                                               0      624\n",
       "ec10_ci_upper                                               0      624\n",
       "ntc                                                         0      383\n",
       "smiles                                                      0       80\n",
       "mol_weight                                                  0       79\n",
       "melting_point                                               0       80\n",
       "water_solubility                                            0       80\n",
       "pubchem2d                                                   0       80\n",
       "atom_number                                                 0       25\n",
       "alone_atom_number                                           0        5\n",
       "bonds_number                                                0       25\n",
       "doubleBond                                                  0       10\n",
       "tripleBond                                                  0        2\n",
       "ring_number                                                 0        6\n",
       "MorganDensity                                               0       53\n",
       "LogP                                                        0       78\n",
       "oh_count                                                    0        3"
      ]
     },
     "execution_count": 102,
     "metadata": {},
     "output_type": "execute_result"
    }
   ],
   "source": [
    "null_output_counts(results_pre)"
   ]
  },
  {
   "cell_type": "code",
   "execution_count": 112,
   "metadata": {
    "collapsed": false
   },
   "outputs": [],
   "source": [
    "outname = 'invitro_processed.csv'\n",
    "results_pre.to_csv(create_directory(outdir,outname))\n",
    "results_ec50 = results_pre.drop(['ec10', 'ec10_ci_lower', 'ec10_ci_upper'],axis=1)\n",
    "results_ec10 = results_pre.drop(['ec50', 'ec50_ci_lower', 'ec50_ci_upper'],axis=1)\n",
    "outname = 'invitro_ec50.csv'\n",
    "results_ec50.to_csv(create_directory(outdir,outname))\n",
    "outname = 'invitro_ec10.csv'\n",
    "results_ec10.to_csv(create_directory(outdir,outname))"
   ]
  }
 ],
 "metadata": {
  "anaconda-cloud": {},
  "kernelspec": {
   "display_name": "Python [conda env:rdkit-test]",
   "language": "python",
   "name": "conda-env-rdkit-test-py"
  },
  "language_info": {
   "codemirror_mode": {
    "name": "ipython",
    "version": 3
   },
   "file_extension": ".py",
   "mimetype": "text/x-python",
   "name": "python",
   "nbconvert_exporter": "python",
   "pygments_lexer": "ipython3",
   "version": "3.6.2"
  }
 },
 "nbformat": 4,
 "nbformat_minor": 1
}
